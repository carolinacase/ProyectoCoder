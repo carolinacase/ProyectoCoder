{
  "cells": [
    {
      "cell_type": "markdown",
      "metadata": {
        "id": "view-in-github",
        "colab_type": "text"
      },
      "source": [
        "<a href=\"https://colab.research.google.com/github/carolinacase/ProyectoCoder/blob/main/PreEntrega1.ipynb\" target=\"_parent\"><img src=\"https://colab.research.google.com/assets/colab-badge.svg\" alt=\"Open In Colab\"/></a>"
      ]
    },
    {
      "cell_type": "code",
      "execution_count": 1,
      "metadata": {
        "colab": {
          "base_uri": "https://localhost:8080/"
        },
        "id": "RVc8CiAm8Jq-",
        "outputId": "f3628877-5834-4d64-916c-0a2e93d19542"
      },
      "outputs": [
        {
          "output_type": "stream",
          "name": "stdout",
          "text": [
            "Mounted at /drive/\n"
          ]
        }
      ],
      "source": [
        "from google.colab import drive\n",
        "drive.mount('/drive/')\n"
      ]
    },
    {
      "cell_type": "code",
      "execution_count": 2,
      "metadata": {
        "id": "AXdy0ZqX-Tr6"
      },
      "outputs": [],
      "source": [
        "ruta = '/drive/MyDrive/Colab Notebooks/Preentrega1-CASECAROLINA'"
      ]
    },
    {
      "cell_type": "code",
      "execution_count": null,
      "metadata": {
        "colab": {
          "background_save": true,
          "base_uri": "https://localhost:8080/"
        },
        "id": "MZY8lcdn-oKc",
        "outputId": "85b2560b-6e18-4b91-a7b3-1aee066743a3"
      },
      "outputs": [
        {
          "output_type": "stream",
          "name": "stdout",
          "text": [
            "1. Registrar un usuario\n",
            "2. Iniciar sesión\n",
            "3. Salir\n"
          ]
        }
      ],
      "source": [
        "usuarios = {}\n",
        "while True:\n",
        "    print(\"1. Registrar un usuario\")\n",
        "    print(\"2. Iniciar sesión\")\n",
        "    print(\"3. Salir\")\n",
        "\n",
        "    opcion = input(\"Selecciona una opción: \")\n",
        "\n",
        "    if opcion == \"1\":\n",
        "        username = input(\"Ingresa tu nombre de usuario: \")\n",
        "        password = input(\"Ingresa tu contraseña:\")\n",
        "        registro_usuario(username,password)\n",
        "\n",
        "    elif opcion == \"2\":\n",
        "        username = input(\"Ingresa el nombre de usuario: \")\n",
        "        password = input(\"Ingresa la contraseña: \")\n",
        "        inicio_sesion(username, password)\n",
        "\n",
        "    elif opcion == \"3\":\n",
        "        break\n",
        "    else:\n",
        "        print(\"Opción inválida.\")\n",
        "\n",
        "#funcion para registrar un usuario\n",
        "def registro_usuario(username, password):\n",
        "    if username not in usuarios:\n",
        "        usuarios[username] = password\n",
        "        print(\"Registro exitoso\")\n",
        "    else:\n",
        "        print(\"El usuario ya existe\")\n",
        "\n",
        "#funcion para Iniciar sesion\n",
        "def inicio_sesion(username, password):\n",
        "    if username in usuarios and usuarios[username] == password:\n",
        "        print(\"Inicio de sesión exitoso.\")\n",
        "    else:\n",
        "        print(\"Datos incorrectos\")\n",
        "\n",
        "miArchivo = open(ruta+'/Archivo.txt','w')\n",
        "\n",
        "\n",
        "miArchivo.write(str(usuarios))\n",
        "\n",
        "miArchivo.close()"
      ]
    },
    {
      "cell_type": "code",
      "execution_count": null,
      "metadata": {
        "id": "aYQN3aptCSoP"
      },
      "outputs": [],
      "source": []
    }
  ],
  "metadata": {
    "colab": {
      "provenance": [],
      "authorship_tag": "ABX9TyN6vWqsXIR/8wywDv6kAnV5",
      "include_colab_link": true
    },
    "kernelspec": {
      "display_name": "Python 3",
      "name": "python3"
    },
    "language_info": {
      "name": "python"
    }
  },
  "nbformat": 4,
  "nbformat_minor": 0
}